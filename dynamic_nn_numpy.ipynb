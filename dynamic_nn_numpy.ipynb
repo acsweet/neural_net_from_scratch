{
 "cells": [
  {
   "cell_type": "code",
   "execution_count": 1,
   "id": "65c4adff",
   "metadata": {},
   "outputs": [],
   "source": [
    "import numpy as np\n",
    "\n",
    "# for some data and preprocessing\n",
    "from sklearn.datasets import load_diabetes, fetch_california_housing\n",
    "from sklearn.preprocessing import StandardScaler, MinMaxScaler\n",
    "\n",
    "# for printing stuff\n",
    "# these are not necessary for running the learning process, just viewing the results\n",
    "import pandas as pd\n",
    "import matplotlib.pyplot as plt"
   ]
  },
  {
   "cell_type": "code",
   "execution_count": 35,
   "id": "af968e78",
   "metadata": {},
   "outputs": [
    {
     "data": {
      "text/plain": [
       "('3.11.3 | packaged by conda-forge | (main, Apr  6 2023, 09:05:00) [Clang 14.0.6 ]',\n",
       " '1.24.3',\n",
       " '2.0.1',\n",
       " '1.2.2',\n",
       " '3.7.1')"
      ]
     },
     "execution_count": 35,
     "metadata": {},
     "output_type": "execute_result"
    }
   ],
   "source": [
    "import sys\n",
    "import matplotlib\n",
    "import sklearn\n",
    "sys.version, np.__version__, pd.__version__, sklearn.__version__, matplotlib.__version__"
   ]
  },
  {
   "cell_type": "markdown",
   "id": "64c3dc9d",
   "metadata": {},
   "source": [
    "# Load some data"
   ]
  },
  {
   "cell_type": "code",
   "execution_count": 2,
   "id": "d3fabea8",
   "metadata": {},
   "outputs": [
    {
     "name": "stdout",
     "output_type": "stream",
     "text": [
      "['MedInc', 'HouseAge', 'AveRooms', 'AveBedrms', 'Population', 'AveOccup', 'Latitude', 'Longitude']\n"
     ]
    }
   ],
   "source": [
    "#https://scikit-learn.org/stable/modules/generated/sklearn.datasets.load_diabetes.html\n",
    "data = fetch_california_housing()\n",
    "# print(data['DESCR'])\n",
    "print(data['feature_names'])\n",
    "x_data = data['data']\n",
    "y_data = data['target'].reshape((-1, 1))"
   ]
  },
  {
   "cell_type": "markdown",
   "id": "11ef5ee8",
   "metadata": {},
   "source": [
    "# Select train and test\n",
    "- make sure targets are a column vector, i.e. shape of (N, 1)"
   ]
  },
  {
   "cell_type": "code",
   "execution_count": 3,
   "id": "40d8f853",
   "metadata": {},
   "outputs": [],
   "source": [
    "num_samples = x_data.shape[0]\n",
    "indices = np.random.permutation(num_samples)\n",
    "\n",
    "train_percent = 0.8\n",
    "train_size = int(train_percent * num_samples)\n",
    "\n",
    "train_indices = indices[:train_size]\n",
    "test_indices = indices[train_size:]"
   ]
  },
  {
   "cell_type": "code",
   "execution_count": 24,
   "id": "3a075370",
   "metadata": {},
   "outputs": [
    {
     "name": "stdout",
     "output_type": "stream",
     "text": [
      "train shapes, X: (16512, 8), Y: (16512, 1)\n",
      "test shapes, X: (4128, 8), Y: (4128, 1)\n"
     ]
    }
   ],
   "source": [
    "x_scaler = StandardScaler()\n",
    "X_train = x_scaler.fit_transform(x_data[train_indices])\n",
    "X_test = x_scaler.transform(x_data[test_indices])\n",
    "\n",
    "y_scaler = StandardScaler()\n",
    "Y_train = y_scaler.fit_transform(y_data[train_indices])\n",
    "Y_test = y_scaler.transform(y_data[test_indices])\n",
    "\n",
    "print(f'train shapes, X: {X_train.shape}, Y: {Y_train.shape}')\n",
    "print(f'test shapes, X: {X_test.shape}, Y: {Y_test.shape}')"
   ]
  },
  {
   "cell_type": "markdown",
   "id": "abcf2592",
   "metadata": {},
   "source": [
    "# Functions and such"
   ]
  },
  {
   "cell_type": "code",
   "execution_count": 6,
   "id": "b1f5bf91",
   "metadata": {},
   "outputs": [],
   "source": [
    "# glorot uniform (code from gpt)\n",
    "def initialize_weights(input_size, output_size):\n",
    "    # Glorot uniform initialization\n",
    "    limit = np.sqrt(6 / (input_size + output_size))\n",
    "    weights = np.random.uniform(-limit, limit, (input_size, output_size))\n",
    "    return weights\n",
    "\n",
    "# exponential decay (code from gpt)\n",
    "def exponential_decay(start_lr, end_lr, decay_steps, current_epoch):\n",
    "    decay_rate = (end_lr / start_lr) ** (1 / decay_steps)\n",
    "    current_lr = start_lr * (decay_rate ** current_epoch)\n",
    "    return current_lr\n",
    "\n",
    "def sigmoid(t):\n",
    "    return 1 / (1 + np.exp(-t))\n",
    "\n",
    "def sigmoid_derivative(t):\n",
    "    return t * (1 - t)\n",
    "\n",
    "def relu(x):\n",
    "    return np.maximum(0, x)\n",
    "\n",
    "def relu_derivative(x):\n",
    "    return np.where(x > 0, 1, 0)"
   ]
  },
  {
   "cell_type": "markdown",
   "id": "22a3a7b1",
   "metadata": {},
   "source": [
    "# Hyperparameters"
   ]
  },
  {
   "cell_type": "code",
   "execution_count": 7,
   "id": "de868a30",
   "metadata": {},
   "outputs": [],
   "source": [
    "num_input_features = X_train.shape[1] # number of features\n",
    "layer_dimensions = [8, 4, 1]\n",
    "\n",
    "learning_rate = 0.01\n",
    "num_epochs = 1000\n",
    "\n",
    "start_learning_rate = 0.01\n",
    "end_learning_rate = 0.001"
   ]
  },
  {
   "cell_type": "markdown",
   "id": "bc38ddc5",
   "metadata": {},
   "source": [
    "# Declare weights"
   ]
  },
  {
   "cell_type": "code",
   "execution_count": 14,
   "id": "9c48638c",
   "metadata": {},
   "outputs": [],
   "source": [
    "weights = {}\n",
    "prior_layer_dim = num_input_features\n",
    "for i, layer_dim in enumerate(layer_dimensions):\n",
    "    weights[f'W_{i+1}'] = initialize_weights(prior_layer_dim, layer_dim)\n",
    "    weights[f'b_{i+1}'] = np.zeros((1, layer_dim))\n",
    "    prior_layer_dim = layer_dim"
   ]
  },
  {
   "cell_type": "markdown",
   "id": "29f2077c",
   "metadata": {},
   "source": [
    "# Training"
   ]
  },
  {
   "cell_type": "code",
   "execution_count": 30,
   "id": "765d0494",
   "metadata": {},
   "outputs": [
    {
     "name": "stdout",
     "output_type": "stream",
     "text": [
      "epoch: 100/1000, train loss: 0.484025740521132, test loss: 0.4987371996935638\n",
      "epoch: 200/1000, train loss: 0.4523646059731267, test loss: 0.4684072362495475\n",
      "epoch: 300/1000, train loss: 0.4304132308652105, test loss: 0.44676812746734734\n",
      "epoch: 400/1000, train loss: 0.4128294249492586, test loss: 0.42892862992541886\n",
      "epoch: 500/1000, train loss: 0.3977996280068891, test loss: 0.41362507127204196\n",
      "epoch: 600/1000, train loss: 0.38493399489875735, test loss: 0.3999276771827196\n",
      "epoch: 700/1000, train loss: 0.3737202317649359, test loss: 0.3882644090027184\n",
      "epoch: 800/1000, train loss: 0.364443395684875, test loss: 0.3784293062700867\n",
      "epoch: 900/1000, train loss: 0.35684623269726856, test loss: 0.37020864081912663\n",
      "epoch: 1000/1000, train loss: 0.350320198363228, test loss: 0.36388429030349895\n"
     ]
    }
   ],
   "source": [
    "num_layers = len(layer_dimensions)\n",
    "num_batch_rows = X_train.shape[0]\n",
    "A_0 = X_train\n",
    "\n",
    "for i in range(num_epochs):\n",
    "    ########################\n",
    "    # forward pass\n",
    "    ########################\n",
    "    # for convenience store the A and Z values\n",
    "    forward_outputs = {f'A_{0}': X_train} \n",
    "    forward_prior_activations = {} \n",
    "    for j in range(num_layers):\n",
    "        W = weights[f'W_{j+1}']\n",
    "        b = weights[f'b_{j+1}']\n",
    "        Z = np.matmul(forward_outputs[f'A_{j}'], W) + b\n",
    "        # no transform on last layer\n",
    "        # don't need to store the last Z, its the same as the last activation\n",
    "        if j < num_layers - 1:\n",
    "            forward_outputs[f'A_{j+1}'] = relu(Z)\n",
    "            forward_prior_activations[f'Z_{j+1}'] = Z\n",
    "        else:\n",
    "            forward_outputs[f'A_{j+1}'] = Z\n",
    "            \n",
    "    ########################\n",
    "    # calculate loss\n",
    "    ########################\n",
    "    if (i+1) % 100 == 0:\n",
    "        loss = np.mean(np.square(Y_train - forward_outputs[f'A_{num_layers}']))\n",
    "        \n",
    "        _A = X_test\n",
    "        for j in range(num_layers):\n",
    "            W = weights[f'W_{j+1}']\n",
    "            b = weights[f'b_{j+1}']\n",
    "            Z = np.matmul(_A, W) + b\n",
    "            _A = relu(Z) if j < num_layers - 1 else Z\n",
    "\n",
    "        test_loss = np.mean(np.square(Y_test - _A))\n",
    "        \n",
    "        print(f'epoch: {i+1}/{num_epochs}, train loss: {loss}, test loss: {test_loss}')\n",
    "        \n",
    "    ########################\n",
    "    # backward pass\n",
    "    ########################\n",
    "    backward_grads = {f'dL_dZ{num_layers}': -(2/num_batch_rows)*(Y_train - forward_outputs[f'A_{num_layers}'])}\n",
    "    for j in reversed(range(1, num_layers)):\n",
    "        Z = forward_prior_activations[f'Z_{j}']\n",
    "        W = weights[f'W_{j+1}']\n",
    "        prior_grad = backward_grads[f'dL_dZ{j+1}']\n",
    "        backward_grads[f'dL_dZ{j}'] = np.matmul(prior_grad, W.T) * relu_derivative(Z)\n",
    "        \n",
    "    \n",
    "    ########################\n",
    "    # update weights\n",
    "    ########################\n",
    "    # current_learning_rate = exponential_decay(start_learning_rate, end_learning_rate, num_epochs, i)\n",
    "    current_learning_rate = learning_rate\n",
    "    for j in reversed(range(num_layers)):\n",
    "        dZ = backward_grads[f'dL_dZ{j+1}']\n",
    "        A = forward_outputs[f'A_{j}']\n",
    "        weights[f'W_{j+1}'] -= current_learning_rate*np.matmul(A.T, dZ)\n",
    "        weights[f'b_{j+1}'] -= current_learning_rate*np.sum(dZ, axis=0, keepdims=True)"
   ]
  },
  {
   "cell_type": "markdown",
   "id": "160cb066",
   "metadata": {},
   "source": [
    "# Check results"
   ]
  },
  {
   "cell_type": "code",
   "execution_count": 31,
   "id": "9a5a49c6",
   "metadata": {},
   "outputs": [
    {
     "name": "stdout",
     "output_type": "stream",
     "text": [
      "final test loss: 0.36382871764731256\n"
     ]
    }
   ],
   "source": [
    "_A = X_test\n",
    "for j in range(num_layers):\n",
    "    W = weights[f'W_{j+1}']\n",
    "    b = weights[f'b_{j+1}']\n",
    "    Z = np.matmul(_A, W) + b\n",
    "    _A = relu(Z) if j < num_layers - 1 else Z\n",
    "\n",
    "y_hat = _A\n",
    "loss = np.mean(np.square(Y_test - y_hat))\n",
    "print(f'final test loss: {loss}')"
   ]
  },
  {
   "cell_type": "code",
   "execution_count": 32,
   "id": "7c27e4c5",
   "metadata": {},
   "outputs": [
    {
     "data": {
      "text/plain": [
       "[<matplotlib.lines.Line2D at 0x1b4ba5e90>]"
      ]
     },
     "execution_count": 32,
     "metadata": {},
     "output_type": "execute_result"
    },
    {
     "data": {
      "image/png": "[encoded data removed]",
      "text/plain": [
       "<Figure size 640x480 with 1 Axes>"
      ]
     },
     "metadata": {},
     "output_type": "display_data"
    }
   ],
   "source": [
    "y_pred = y_scaler.inverse_transform(y_hat).flatten()\n",
    "y_test = y_data[test_indices].flatten()\n",
    "\n",
    "# pd.DataFrame({'y_pred': y_pred, 'y_true': y_test}).head()\n",
    "plt.scatter(y_pred, y_test)\n",
    "\n",
    "x_line = np.linspace(0, int(np.round(np.max(y_test))), 100)\n",
    "y_line = x_line\n",
    "plt.plot(x_line, y_line, color='r')"
   ]
  },
  {
   "cell_type": "code",
   "execution_count": null,
   "id": "6e33b94f",
   "metadata": {},
   "outputs": [],
   "source": []
  }
 ],
 "metadata": {
  "kernelspec": {
   "display_name": "Python 3 (ipykernel)",
   "language": "python",
   "name": "python3"
  },
  "language_info": {
   "codemirror_mode": {
    "name": "ipython",
    "version": 3
   },
   "file_extension": ".py",
   "mimetype": "text/x-python",
   "name": "python",
   "nbconvert_exporter": "python",
   "pygments_lexer": "ipython3",
   "version": "3.11.3"
  }
 },
 "nbformat": 4,
 "nbformat_minor": 5
}
