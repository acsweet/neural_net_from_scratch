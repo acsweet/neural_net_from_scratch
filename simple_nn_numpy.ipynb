{
 "cells": [
  {
   "cell_type": "code",
   "execution_count": 49,
   "id": "70a0074c",
   "metadata": {},
   "outputs": [],
   "source": [
    "import numpy as np\n",
    "\n",
    "# for some data and preprocessing\n",
    "from sklearn.datasets import load_diabetes, fetch_california_housing\n",
    "from sklearn.preprocessing import StandardScaler, MinMaxScaler\n",
    "\n",
    "# for printing stuff\n",
    "# these are not necessary for running the learning process, just viewing the results\n",
    "import pandas as pd\n",
    "import matplotlib.pyplot as plt"
   ]
  },
  {
   "cell_type": "markdown",
   "id": "328f9cfb",
   "metadata": {},
   "source": [
    "# Load some data"
   ]
  },
  {
   "cell_type": "code",
   "execution_count": 2,
   "id": "12558202",
   "metadata": {},
   "outputs": [
    {
     "name": "stdout",
     "output_type": "stream",
     "text": [
      ".. _california_housing_dataset:\n",
      "\n",
      "California Housing dataset\n",
      "--------------------------\n",
      "\n",
      "**Data Set Characteristics:**\n",
      "\n",
      "    :Number of Instances: 20640\n",
      "\n",
      "    :Number of Attributes: 8 numeric, predictive attributes and the target\n",
      "\n",
      "    :Attribute Information:\n",
      "        - MedInc        median income in block group\n",
      "        - HouseAge      median house age in block group\n",
      "        - AveRooms      average number of rooms per household\n",
      "        - AveBedrms     average number of bedrooms per household\n",
      "        - Population    block group population\n",
      "        - AveOccup      average number of household members\n",
      "        - Latitude      block group latitude\n",
      "        - Longitude     block group longitude\n",
      "\n",
      "    :Missing Attribute Values: None\n",
      "\n",
      "This dataset was obtained from the StatLib repository.\n",
      "https://www.dcc.fc.up.pt/~ltorgo/Regression/cal_housing.html\n",
      "\n",
      "The target variable is the median house value for California districts,\n",
      "expressed in hundreds of thousands of dollars ($100,000).\n",
      "\n",
      "This dataset was derived from the 1990 U.S. census, using one row per census\n",
      "block group. A block group is the smallest geographical unit for which the U.S.\n",
      "Census Bureau publishes sample data (a block group typically has a population\n",
      "of 600 to 3,000 people).\n",
      "\n",
      "A household is a group of people residing within a home. Since the average\n",
      "number of rooms and bedrooms in this dataset are provided per household, these\n",
      "columns may take surprisingly large values for block groups with few households\n",
      "and many empty houses, such as vacation resorts.\n",
      "\n",
      "It can be downloaded/loaded using the\n",
      ":func:`sklearn.datasets.fetch_california_housing` function.\n",
      "\n",
      ".. topic:: References\n",
      "\n",
      "    - Pace, R. Kelley and Ronald Barry, Sparse Spatial Autoregressions,\n",
      "      Statistics and Probability Letters, 33 (1997) 291-297\n",
      "\n",
      "['MedInc', 'HouseAge', 'AveRooms', 'AveBedrms', 'Population', 'AveOccup', 'Latitude', 'Longitude']\n"
     ]
    }
   ],
   "source": [
    "#https://scikit-learn.org/stable/modules/generated/sklearn.datasets.load_diabetes.html\n",
    "data = fetch_california_housing()\n",
    "print(data['DESCR'])\n",
    "print(data['feature_names'])\n",
    "x_data = data['data']\n",
    "y_data = data['target'].reshape((-1, 1))"
   ]
  },
  {
   "cell_type": "code",
   "execution_count": 7,
   "id": "908f6b97",
   "metadata": {},
   "outputs": [],
   "source": [
    "# df_data = fetch_california_housing(as_frame=True).frame\n",
    "# df_data.describe()"
   ]
  },
  {
   "cell_type": "markdown",
   "id": "13f30a12",
   "metadata": {},
   "source": [
    "# Select train and test"
   ]
  },
  {
   "cell_type": "code",
   "execution_count": 13,
   "id": "7116cdc1",
   "metadata": {},
   "outputs": [],
   "source": [
    "num_samples = x_data.shape[0]\n",
    "indices = np.random.permutation(num_samples)\n",
    "\n",
    "train_percent = 0.8\n",
    "train_size = int(train_percent * num_samples)\n",
    "\n",
    "train_indices = indices[:train_size]\n",
    "test_indices = indices[train_size:]"
   ]
  },
  {
   "cell_type": "code",
   "execution_count": 14,
   "id": "c5886ac1",
   "metadata": {},
   "outputs": [
    {
     "name": "stdout",
     "output_type": "stream",
     "text": [
      "train shapes, X: (16512, 8), Y: (16512, 1)\n",
      "test shapes, X: (4128, 8), Y: (4128, 1)\n"
     ]
    }
   ],
   "source": [
    "x_scaler = StandardScaler()\n",
    "X_train = x_scaler.fit_transform(x_data[train_indices])\n",
    "X_test = x_scaler.transform(x_data[test_indices])\n",
    "\n",
    "y_scaler = StandardScaler()\n",
    "Y_train = y_scaler.fit_transform(y_data[train_indices])\n",
    "Y_test = y_scaler.transform(y_data[test_indices])\n",
    "\n",
    "print(f'train shapes, X: {X_train.shape}, Y: {Y_train.shape}')\n",
    "print(f'test shapes, X: {X_test.shape}, Y: {Y_test.shape}')"
   ]
  },
  {
   "cell_type": "markdown",
   "id": "6c0f3270",
   "metadata": {},
   "source": [
    "# Declare some things"
   ]
  },
  {
   "cell_type": "code",
   "execution_count": 5,
   "id": "c63c9331",
   "metadata": {},
   "outputs": [],
   "source": [
    "def sigmoid(t):\n",
    "    return 1 / (1 + np.exp(-t))\n",
    "\n",
    "def sigmoid_derivative(t):\n",
    "    return t * (1 - t)"
   ]
  },
  {
   "cell_type": "code",
   "execution_count": 7,
   "id": "dee4a203",
   "metadata": {},
   "outputs": [],
   "source": [
    "num_input_features = x_data.shape[1] # number of features"
   ]
  },
  {
   "cell_type": "code",
   "execution_count": 29,
   "id": "31ac26ad",
   "metadata": {},
   "outputs": [],
   "source": [
    "layer_1_out_dim = 50\n",
    "layer_2_out_dim = 25\n",
    "layer_3_out_dim = 1\n",
    "\n",
    "learning_rate = 0.001"
   ]
  },
  {
   "cell_type": "markdown",
   "id": "9e3ead5a",
   "metadata": {},
   "source": [
    "# Declare weights"
   ]
  },
  {
   "cell_type": "code",
   "execution_count": 86,
   "id": "c2dd3a5c",
   "metadata": {},
   "outputs": [],
   "source": [
    "W_1 = np.random.normal(size=(num_input_features, layer_1_out_dim))\n",
    "b_1 = np.zeros((1, layer_1_out_dim))\n",
    "\n",
    "W_2 = np.random.normal(size=(layer_1_out_dim, layer_2_out_dim))\n",
    "b_2 = np.zeros((1, layer_2_out_dim))\n",
    "\n",
    "W_3 = np.random.normal(size=(layer_2_out_dim, layer_3_out_dim))\n",
    "b_3 = np.zeros((1, layer_3_out_dim))"
   ]
  },
  {
   "cell_type": "markdown",
   "id": "20775cea",
   "metadata": {},
   "source": [
    "# Forward pass"
   ]
  },
  {
   "cell_type": "code",
   "execution_count": 87,
   "id": "9a472623",
   "metadata": {},
   "outputs": [],
   "source": [
    "A_0 = x_data\n",
    "\n",
    "Z_1 = np.matmul(A_0, W_1) + b_1\n",
    "A_1 = sigmoid(Z_1)\n",
    "\n",
    "Z_2 = np.matmul(A_1, W_2) + b_2\n",
    "A_2 = sigmoid(Z_2)\n",
    "\n",
    "Z_3 = np.matmul(A_2, W_3) + b_3\n",
    "A_3 = Z_3 # linear transform\n",
    "\n",
    "y_hat = A_3"
   ]
  },
  {
   "cell_type": "markdown",
   "id": "d555be1d",
   "metadata": {},
   "source": [
    "# Backward pass\n",
    "- bias updates left explicity multiplied by a vector of ones for demonstration\n",
    "    - swap to <code>np.sum()</code> in implementaion"
   ]
  },
  {
   "cell_type": "code",
   "execution_count": 88,
   "id": "ac7b3626",
   "metadata": {},
   "outputs": [
    {
     "name": "stdout",
     "output_type": "stream",
     "text": [
      "loss: 29616.055187296355\n"
     ]
    }
   ],
   "source": [
    "loss = np.mean(np.square(y_data - y_hat))\n",
    "print(f'loss: {loss}')\n",
    "\n",
    "num_batch_rows = y_hat.shape[0]\n",
    "\n",
    "dL_dZ_3 = -(2/num_batch_rows)*(y_data.reshape((-1, 1)) - y_hat)*1\n",
    "dL_dZ_2 = np.matmul(dL_dZ_3, W_3.T) * sigmoid_derivative(Z_2) # element wise times the derivative\n",
    "dL_dZ_1 = np.matmul(dL_dZ_2, W_2.T) * sigmoid_derivative(Z_1) # element wise times the derivative\n",
    "\n",
    "# dZ_3_dW_3 = A_2, dZ_3_db_3 = 1\n",
    "W_3 = W_3 - learning_rate*np.matmul(A_2.T, dL_dZ_3)\n",
    "b_3 = b_3 - learning_rate*np.matmul(np.ones((1, num_batch_rows)), dL_dZ_3) # this can be done with a sum too\n",
    "\n",
    "# dZ_2_dW_2 = A_1, dZ_2_db_2 = 1\n",
    "W_2 = W_2 - learning_rate*np.matmul(A_1.T, dL_dZ_2)\n",
    "b_2 = b_2 - learning_rate*np.matmul(np.ones((1, num_batch_rows)), dL_dZ_2)\n",
    "\n",
    "# dZ_1_dW_1 = A_0, dZ_1_db_1 = 1\n",
    "W_1 = W_1 - learning_rate*np.matmul(A_0.T, dL_dZ_1)\n",
    "b_1 = b_1 - learning_rate*np.matmul(np.ones((1, num_batch_rows)), dL_dZ_1)"
   ]
  },
  {
   "cell_type": "code",
   "execution_count": 89,
   "id": "968a58fb",
   "metadata": {},
   "outputs": [
    {
     "data": {
      "text/plain": [
       "((1, 25), (1, 25))"
      ]
     },
     "execution_count": 89,
     "metadata": {},
     "output_type": "execute_result"
    }
   ],
   "source": [
    "np.sum(dL_dZ_2, axis=0, keepdims=True).shape, b_2.shape"
   ]
  },
  {
   "cell_type": "code",
   "execution_count": 55,
   "id": "6fcc02ac",
   "metadata": {},
   "outputs": [
    {
     "data": {
      "text/plain": [
       "((10, 50), (1, 50), (50, 25), (1, 25), (25, 1), (1, 1))"
      ]
     },
     "execution_count": 55,
     "metadata": {},
     "output_type": "execute_result"
    }
   ],
   "source": [
    "W_1.shape, b_1.shape, W_2.shape, b_2.shape, W_3.shape, b_3.shape"
   ]
  },
  {
   "cell_type": "markdown",
   "id": "b49943d9",
   "metadata": {},
   "source": [
    "# Put it all together"
   ]
  },
  {
   "cell_type": "markdown",
   "id": "07b1c025",
   "metadata": {},
   "source": [
    "### Hyper parameters"
   ]
  },
  {
   "cell_type": "code",
   "execution_count": 34,
   "id": "0205555d",
   "metadata": {},
   "outputs": [],
   "source": [
    "num_input_features = X_train.shape[1] # number of features\n",
    "layer_1_out_dim = 8\n",
    "layer_2_out_dim = 4\n",
    "layer_3_out_dim = 1\n",
    "\n",
    "learning_rate = 0.01\n",
    "num_epochs = 1000\n",
    "\n",
    "start_learning_rate = 0.01\n",
    "end_learning_rate = 0.001"
   ]
  },
  {
   "cell_type": "code",
   "execution_count": 35,
   "id": "f92d5aac",
   "metadata": {},
   "outputs": [],
   "source": [
    "# glorot uniform (code from gpt)\n",
    "def initialize_weights(input_size, output_size):\n",
    "    # Glorot uniform initialization\n",
    "    limit = np.sqrt(6 / (input_size + output_size))\n",
    "    weights = np.random.uniform(-limit, limit, (input_size, output_size))\n",
    "    return weights\n",
    "\n",
    "# exponential decay (code from gpt)\n",
    "def exponential_decay(start_lr, end_lr, decay_steps, current_epoch):\n",
    "    decay_rate = (end_lr / start_lr) ** (1 / decay_steps)\n",
    "    current_lr = start_lr * (decay_rate ** current_epoch)\n",
    "    return current_lr"
   ]
  },
  {
   "cell_type": "code",
   "execution_count": 36,
   "id": "7907e186",
   "metadata": {},
   "outputs": [],
   "source": [
    "def sigmoid(t):\n",
    "    return 1 / (1 + np.exp(-t))\n",
    "\n",
    "def sigmoid_derivative(t):\n",
    "    return t * (1 - t)\n",
    "\n",
    "def relu(x):\n",
    "    return np.maximum(0, x)\n",
    "\n",
    "def relu_derivative(x):\n",
    "    return np.where(x > 0, 1, 0)"
   ]
  },
  {
   "cell_type": "markdown",
   "id": "cf8c0955",
   "metadata": {},
   "source": [
    "### Declare weights\n",
    "- can append 1's onto inputs to each layer to make calcs easier and drop explicit bias declaration"
   ]
  },
  {
   "cell_type": "code",
   "execution_count": 37,
   "id": "07013447",
   "metadata": {},
   "outputs": [],
   "source": [
    "# naive weight declaration\n",
    "# W_1 = np.random.normal(size=(num_input_features, layer_1_out_dim))\n",
    "# b_1 = np.zeros((1, layer_1_out_dim))\n",
    "\n",
    "# W_2 = np.random.normal(size=(layer_1_out_dim, layer_2_out_dim))\n",
    "# b_2 = np.zeros((1, layer_2_out_dim))\n",
    "\n",
    "# W_3 = np.random.normal(size=(layer_2_out_dim, layer_3_out_dim))\n",
    "# b_3 = np.zeros((1, layer_3_out_dim))"
   ]
  },
  {
   "cell_type": "code",
   "execution_count": 38,
   "id": "b413a68b",
   "metadata": {},
   "outputs": [],
   "source": [
    "W_1 = initialize_weights(num_input_features, layer_1_out_dim)\n",
    "b_1 = np.zeros((1, layer_1_out_dim))\n",
    "\n",
    "W_2 = initialize_weights(layer_1_out_dim, layer_2_out_dim)\n",
    "b_2 = np.zeros((1, layer_2_out_dim))\n",
    "\n",
    "W_3 = initialize_weights(layer_2_out_dim, layer_3_out_dim)\n",
    "b_3 = np.zeros((1, layer_3_out_dim))"
   ]
  },
  {
   "cell_type": "markdown",
   "id": "e8d5bfd2",
   "metadata": {},
   "source": [
    "### Training loop\n",
    "- batch size is all data"
   ]
  },
  {
   "cell_type": "code",
   "execution_count": 39,
   "id": "92c2cada",
   "metadata": {},
   "outputs": [
    {
     "name": "stdout",
     "output_type": "stream",
     "text": [
      "epoch: 100/1000, train loss: 0.8238969658409241, test loss: 0.7846986325266602\n",
      "epoch: 200/1000, train loss: 0.6340048321743992, test loss: 0.5819788640794358\n",
      "epoch: 300/1000, train loss: 0.5255881336307033, test loss: 0.478291862830572\n",
      "epoch: 400/1000, train loss: 0.4899620941496603, test loss: 0.44851799398465764\n",
      "epoch: 500/1000, train loss: 0.4686053642022541, test loss: 0.429922486662364\n",
      "epoch: 600/1000, train loss: 0.45119233880793824, test loss: 0.4144317664731839\n",
      "epoch: 700/1000, train loss: 0.4360576291221356, test loss: 0.40134692195425387\n",
      "epoch: 800/1000, train loss: 0.4227569190379417, test loss: 0.39010862790116907\n",
      "epoch: 900/1000, train loss: 0.41145278374495503, test loss: 0.3808519030044625\n",
      "epoch: 1000/1000, train loss: 0.402029950378928, test loss: 0.37323740801128547\n"
     ]
    }
   ],
   "source": [
    "for i in range(num_epochs):\n",
    "    # this could be done outside of the loop, but I'll leave it here in case batching is added\n",
    "    num_batch_rows = X_train.shape[0]\n",
    "    \n",
    "    ########################\n",
    "    # forward pass\n",
    "    ########################\n",
    "    A_0 = X_train # this could be moved\n",
    "\n",
    "    Z_1 = np.matmul(A_0, W_1) + b_1\n",
    "    A_1 = relu(Z_1)\n",
    "\n",
    "    Z_2 = np.matmul(A_1, W_2) + b_2\n",
    "    A_2 = relu(Z_2)\n",
    "\n",
    "    Z_3 = np.matmul(A_2, W_3) + b_3\n",
    "    A_3 = Z_3 # linear transform\n",
    "\n",
    "    y_hat = A_3\n",
    "    \n",
    "    ########################\n",
    "    # calculate loss\n",
    "    ########################\n",
    "    if (i+1) % 100 == 0:\n",
    "        loss = np.mean(np.square(Y_train.reshape((-1, 1)) - y_hat))\n",
    "        \n",
    "        _A_0 = X_test # this could be moved\n",
    "        _Z_1 = np.matmul(_A_0, W_1) + b_1\n",
    "        _A_1 = relu(_Z_1)\n",
    "\n",
    "        _Z_2 = np.matmul(_A_1, W_2) + b_2\n",
    "        _A_2 = relu(_Z_2)\n",
    "\n",
    "        _Z_3 = np.matmul(_A_2, W_3) + b_3\n",
    "        _A_3 = _Z_3 # linear transform\n",
    "\n",
    "        _y_hat = _A_3\n",
    "\n",
    "        test_loss = np.mean(np.square(Y_test.reshape((-1, 1)) - _y_hat))\n",
    "        \n",
    "        print(f'epoch: {i+1}/{num_epochs}, train loss: {loss}, test loss: {test_loss}')\n",
    "    \n",
    "    # current_learning_rate = exponential_decay(start_learning_rate, end_learning_rate, num_epochs, i)\n",
    "    current_learning_rate = learning_rate\n",
    "    ########################\n",
    "    # backward pass\n",
    "    ########################\n",
    "    # can also do: dL_dZ_3 = -(Y_train.reshape((-1, 1)) - y_hat)\n",
    "    dL_dZ_3 = -(2/num_batch_rows)*(Y_train.reshape((-1, 1)) - y_hat)\n",
    "    # dL_dZ_3 = -(Y_train.reshape((-1, 1)) - y_hat)\n",
    "    dL_dZ_2 = np.matmul(dL_dZ_3, W_3.T) * relu_derivative(Z_2)\n",
    "    dL_dZ_1 = np.matmul(dL_dZ_2, W_2.T) * relu_derivative(Z_1)\n",
    "\n",
    "    # dZ_3_dW_3 = A_2, dZ_3_db_3 = 1\n",
    "    W_3 = W_3 - current_learning_rate*np.matmul(A_2.T, dL_dZ_3)\n",
    "    b_3 = b_3 - current_learning_rate*np.sum(dL_dZ_3, axis=0, keepdims=True)\n",
    "\n",
    "    # dZ_2_dW_2 = A_1, dZ_2_db_2 = 1\n",
    "    W_2 = W_2 - current_learning_rate*np.matmul(A_1.T, dL_dZ_2)\n",
    "    b_2 = b_2 - current_learning_rate*np.sum(dL_dZ_2, axis=0, keepdims=True)\n",
    "\n",
    "    # dZ_1_dW_1 = A_0, dZ_1_db_1 = 1\n",
    "    W_1 = W_1 - current_learning_rate*np.matmul(A_0.T, dL_dZ_1)\n",
    "    b_1 = b_1 - current_learning_rate*np.sum(dL_dZ_1, axis=0, keepdims=True)\n",
    "    "
   ]
  },
  {
   "cell_type": "code",
   "execution_count": 40,
   "id": "c7bc6538",
   "metadata": {},
   "outputs": [
    {
     "name": "stdout",
     "output_type": "stream",
     "text": [
      "final test loss: 0.37316913515807787\n"
     ]
    }
   ],
   "source": [
    "A_0 = X_test # this could be moved\n",
    "\n",
    "Z_1 = np.matmul(A_0, W_1) + b_1\n",
    "A_1 = relu(Z_1)\n",
    "\n",
    "Z_2 = np.matmul(A_1, W_2) + b_2\n",
    "A_2 = relu(Z_2)\n",
    "\n",
    "Z_3 = np.matmul(A_2, W_3) + b_3\n",
    "A_3 = Z_3 # linear transform\n",
    "\n",
    "y_hat = A_3\n",
    "\n",
    "loss = np.mean(np.square(Y_test.reshape((-1, 1)) - y_hat))\n",
    "print(f'final test loss: {loss}')"
   ]
  },
  {
   "cell_type": "code",
   "execution_count": 52,
   "id": "38fad6dc",
   "metadata": {},
   "outputs": [
    {
     "data": {
      "text/plain": [
       "[<matplotlib.lines.Line2D at 0x1b095fb10>]"
      ]
     },
     "execution_count": 52,
     "metadata": {},
     "output_type": "execute_result"
    },
    {
     "data": {
      "image/png": "[encoded data removed]",
      "text/plain": [
       "<Figure size 640x480 with 1 Axes>"
      ]
     },
     "metadata": {},
     "output_type": "display_data"
    }
   ],
   "source": [
    "y_pred = y_scaler.inverse_transform(y_hat).flatten()\n",
    "y_test = y_data[test_indices].flatten()\n",
    "\n",
    "# pd.DataFrame({'y_pred': y_pred, 'y_true': y_test}).head()\n",
    "plt.scatter(y_pred, y_test)\n",
    "\n",
    "x_line = np.linspace(0, int(np.round(np.max(y_test))), 100)\n",
    "y_line = x_line\n",
    "plt.plot(x_line, y_line, color='r')"
   ]
  },
  {
   "cell_type": "markdown",
   "id": "d8c80ca4",
   "metadata": {},
   "source": [
    "# Simple test with tensorflow and keras\n",
    "- code from gpt"
   ]
  },
  {
   "cell_type": "code",
   "execution_count": 30,
   "id": "9472af76",
   "metadata": {},
   "outputs": [],
   "source": [
    "# from sklearn.datasets import fetch_california_housing\n",
    "# from sklearn.model_selection import train_test_split\n",
    "# from sklearn.preprocessing import StandardScaler\n",
    "# from tensorflow.keras.models import Sequential\n",
    "# from tensorflow.keras.layers import Dense\n",
    "\n",
    "# # Load the Boston Housing dataset\n",
    "# ca_housing = fetch_california_housing()\n",
    "\n",
    "# # Get the features and target\n",
    "# X, y = ca_housing.data, ca_housing.target\n",
    "\n",
    "# # Preprocess the data - scaling features\n",
    "# scaler = StandardScaler()\n",
    "# X = scaler.fit_transform(X)\n",
    "\n",
    "# # Split the data into training and test sets\n",
    "# X_train, X_test, y_train, y_test = train_test_split(X, y, test_size=0.2, random_state=42)\n",
    "\n",
    "# # Build a simple neural network model\n",
    "# model = Sequential()\n",
    "# model.add(Dense(64, activation='relu', input_shape=(X.shape[1],)))\n",
    "# model.add(Dense(32, activation='relu'))\n",
    "# model.add(Dense(1))  # Output layer - no activation function for regression\n",
    "\n",
    "# # Compile the model\n",
    "# model.compile(optimizer='adam', loss='mean_squared_error')\n",
    "\n",
    "# # Train the model\n",
    "# model.fit(X_train, y_train, epochs=100, batch_size=32, validation_data=(X_test, y_test))\n"
   ]
  },
  {
   "cell_type": "code",
   "execution_count": 31,
   "id": "fe0060e9",
   "metadata": {},
   "outputs": [],
   "source": [
    "# y_pred = model.predict(X_test)\n",
    "\n",
    "# pd.DataFrame({'y_pred': y_pred.flatten(), 'y_true': y_test.flatten()}).head()\n",
    "\n",
    "# plt.scatter(y_pred, y_test)"
   ]
  },
  {
   "cell_type": "code",
   "execution_count": null,
   "id": "2b471ab4",
   "metadata": {},
   "outputs": [],
   "source": []
  }
 ],
 "metadata": {
  "kernelspec": {
   "display_name": "Python 3 (ipykernel)",
   "language": "python",
   "name": "python3"
  },
  "language_info": {
   "codemirror_mode": {
    "name": "ipython",
    "version": 3
   },
   "file_extension": ".py",
   "mimetype": "text/x-python",
   "name": "python",
   "nbconvert_exporter": "python",
   "pygments_lexer": "ipython3",
   "version": "3.11.3"
  }
 },
 "nbformat": 4,
 "nbformat_minor": 5
}
